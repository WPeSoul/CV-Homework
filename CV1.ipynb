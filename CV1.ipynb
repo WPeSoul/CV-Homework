{
 "cells": [
  {
   "cell_type": "code",
   "execution_count": 4,
   "metadata": {},
   "outputs": [],
   "source": [
    "import cv2 as cv\n",
    "import numpy as np\n",
    "import os\n",
    "\n",
    "my_path = \"D:/MyProject/CV/CV1/tlights\"\n",
    "my_img = []\n",
    "\n",
    "for i in os.listdir(my_path):\n",
    "    if i.endswith(\".jpg\"):\n",
    "        img_path = os.path.join(my_path, i)\n",
    "        my_img.append(img_path)\n",
    "\n",
    "images_bgr = []\n",
    "images_rgb = []\n",
    "images_hsv = []\n",
    "\n",
    "for img_path in my_img:\n",
    "    img_bgr = cv.imread(img_path)\n",
    "    img_rgb = cv.cvtColor(img_bgr, cv.COLOR_BGR2RGB)\n",
    "    img_hsv = cv.cvtColor(img_rgb, cv.COLOR_RGB2HSV)\n",
    "    \n",
    "    images_bgr.append(img_bgr)\n",
    "    images_rgb.append(img_rgb)\n",
    "    images_hsv.append(img_hsv)"
   ]
  },
  {
   "cell_type": "code",
   "execution_count": 5,
   "metadata": {},
   "outputs": [],
   "source": [
    "red_images = []  \n",
    "green_images = []  \n",
    "yellow_images = []  \n",
    "unknown_images = []  \n",
    "\n",
    "for i, img_hsv in enumerate(images_hsv): \n",
    "    # 绿色  \n",
    "    green_bounds = np.array([[43, 100, 120], [90, 255, 255]])\n",
    "    # 创建掩膜，使用所有通道的边界   \n",
    "    green_mask = (img_hsv[:,:,0] >= green_bounds[0, 0]) & (img_hsv[:,:,0] <= green_bounds[1, 0]) & \\\n",
    "                 (img_hsv[:,:,1] >= green_bounds[0, 1]) & (img_hsv[:,:,1] <= green_bounds[1, 1]) & \\\n",
    "                 (img_hsv[:,:,2] >= green_bounds[0, 2]) & (img_hsv[:,:,2] <= green_bounds[1, 2])  \n",
    "    # 计算满足条件的像素数量\n",
    "    green_pixels = np.sum(green_mask)  \n",
    "\n",
    "    # 红色 \n",
    "    red_bounds = np.array([[0, 80, 20], [12, 200, 220]])  # низкие и высокие границы для красного  \n",
    "    red_mask_low = (img_hsv[:,:,0] >= red_bounds[0, 0]) & (img_hsv[:,:,0] <= red_bounds[1, 0]) & \\\n",
    "                   (img_hsv[:,:,1] >= red_bounds[0, 1]) & (img_hsv[:,:,1] <= red_bounds[1, 1]) & \\\n",
    "                   (img_hsv[:,:,2] >= red_bounds[0, 2]) & (img_hsv[:,:,2] <= red_bounds[1, 2])  \n",
    "\n",
    "    red_bounds_high = np.array([[160, 50, 20], [180, 255, 255]])  # 高红色范围  \n",
    "    red_mask_high = (img_hsv[:,:,0] >= red_bounds_high[0, 0]) & (img_hsv[:,:,0] <= red_bounds_high[1, 0]) & \\\n",
    "                    (img_hsv[:,:,1] >= red_bounds_high[0, 1]) & (img_hsv[:,:,1] <= red_bounds_high[1, 1]) & \\\n",
    "                    (img_hsv[:,:,2] >= red_bounds_high[0, 2]) & (img_hsv[:,:,2] <= red_bounds_high[1, 2])  \n",
    "\n",
    "    red_mask = red_mask_low | red_mask_high  \n",
    "    red_pixels = np.sum(red_mask)  \n",
    "    \n",
    "    # 黄色  \n",
    "    yellow_bounds = np.array([[18, 80, 110], [33, 230, 255]])  \n",
    "    yellow_mask = (img_hsv[:,:,0] >= yellow_bounds[0, 0]) & (img_hsv[:,:,0] <= yellow_bounds[1, 0]) & \\\n",
    "                  (img_hsv[:,:,1] >= yellow_bounds[0, 1]) & (img_hsv[:,:,1] <= yellow_bounds[1, 1]) & \\\n",
    "                  (img_hsv[:,:,2] >= yellow_bounds[0, 2]) & (img_hsv[:,:,2] <= yellow_bounds[1, 2])  \n",
    "    yellow_pixels = np.sum(yellow_mask)  \n",
    "  \n",
    "    if red_pixels > green_pixels and red_pixels > yellow_pixels:  \n",
    "        red_images.append(my_img[i])  \n",
    "    elif green_pixels > red_pixels and green_pixels > yellow_pixels:  \n",
    "        green_images.append(my_img[i])  \n",
    "    elif yellow_pixels > red_pixels and yellow_pixels > green_pixels:  \n",
    "        yellow_images.append(my_img[i])  \n",
    "    else:  \n",
    "        unknown_images.append(my_img[i])"
   ]
  },
  {
   "cell_type": "code",
   "execution_count": 6,
   "metadata": {},
   "outputs": [],
   "source": [
    "with open(\"red.txt\", \"w\") as red_file:\n",
    "    for red_img in red_images:\n",
    "        red_file.write(red_img + \"\\n\")\n",
    "\n",
    "with open(\"green.txt\", \"w\") as green_file:\n",
    "    for green_img in green_images:\n",
    "        green_file.write(green_img + \"\\n\")\n",
    "\n",
    "with open(\"yellow.txt\", \"w\") as yellow_file:\n",
    "    for yellow_img in yellow_images:\n",
    "        yellow_file.write(yellow_img + \"\\n\")"
   ]
  }
 ],
 "metadata": {
  "kernelspec": {
   "display_name": "Python 3",
   "language": "python",
   "name": "python3"
  },
  "language_info": {
   "codemirror_mode": {
    "name": "ipython",
    "version": 3
   },
   "file_extension": ".py",
   "mimetype": "text/x-python",
   "name": "python",
   "nbconvert_exporter": "python",
   "pygments_lexer": "ipython3",
   "version": "3.12.2"
  }
 },
 "nbformat": 4,
 "nbformat_minor": 2
}
